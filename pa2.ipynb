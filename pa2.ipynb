{
 "cells": [
  {
   "cell_type": "markdown",
   "id": "1093e83e-15b9-4ff9-9d73-3a764eb375f0",
   "metadata": {},
   "source": [
    "### Import libraries"
   ]
  },
  {
   "cell_type": "code",
   "execution_count": 2,
   "id": "1fdbed6b-93bc-4680-874a-6444c7853568",
   "metadata": {},
   "outputs": [
    {
     "name": "stderr",
     "output_type": "stream",
     "text": [
      "[nltk_data] Downloading package punkt to\n",
      "[nltk_data]     C:\\Users\\leaha\\AppData\\Roaming\\nltk_data...\n",
      "[nltk_data]   Package punkt is already up-to-date!\n"
     ]
    },
    {
     "data": {
      "text/plain": [
       "True"
      ]
     },
     "execution_count": 2,
     "metadata": {},
     "output_type": "execute_result"
    }
   ],
   "source": [
    "import wikipediaapi\n",
    "import re\n",
    "import logging\n",
    "import nltk\n",
    "from nltk.tokenize import sent_tokenize\n",
    "nltk.download('punkt')"
   ]
  },
  {
   "cell_type": "markdown",
   "id": "228e1935-f44a-4783-896e-2934b90b45b5",
   "metadata": {},
   "source": [
    "### Retrieve information from Wikipedia"
   ]
  },
  {
   "cell_type": "code",
   "execution_count": 4,
   "id": "12455eaf-302a-4470-837c-97833587bc03",
   "metadata": {},
   "outputs": [],
   "source": [
    "def fetch_wikipedia_summary(topic):\n",
    "    user_agent = 'PA2/1.0 (lantler@gmu.edu)'\n",
    "    wiki_api = wikipediaapi.Wikipedia('en', headers={'User-Agent': user_agent})\n",
    "    page = wiki_api.page(topic)\n",
    "    if page.exists():\n",
    "        return page.summary\n",
    "    else:\n",
    "        return \"\""
   ]
  },
  {
   "cell_type": "markdown",
   "id": "314866ff-c948-4ca4-8a30-cfb03268cbc7",
   "metadata": {},
   "source": [
    "### Generate response"
   ]
  },
  {
   "cell_type": "code",
   "execution_count": 6,
   "id": "aeb2a8be-66bc-4927-b4eb-4634e7aa3831",
   "metadata": {},
   "outputs": [],
   "source": [
    "def generate_response(question, summary):\n",
    "    question_words = question.lower().split()\n",
    "    subject = \" \".join(question_words[2:]).replace('?', '')\n",
    "\n",
    "    sentences = sent_tokenize(summary)\n",
    "    \n",
    "    for sentence in sentences:\n",
    "        if subject.lower() in sentence.lower():\n",
    "            return sentence.strip()\n",
    "\n",
    "    return \"I'm sorry, I don't know the answer.\""
   ]
  },
  {
   "cell_type": "markdown",
   "id": "3bb0324e-9af0-44bb-b496-01e4c1976825",
   "metadata": {},
   "source": [
    "### Main function"
   ]
  },
  {
   "cell_type": "code",
   "execution_count": null,
   "id": "7713c48b-3db8-45a4-9d6c-4179e4e91ede",
   "metadata": {
    "tags": []
   },
   "outputs": [
    {
     "name": "stdout",
     "output_type": "stream",
     "text": [
      "Welcome to the Question Answering System by AIT 526 Group 2. Please ask me a question about a person, place, or thing.\n",
      "Type 'Exit' to close the program.\n"
     ]
    },
    {
     "name": "stdout",
     "output_type": "stream",
     "text": [
      "=?  When was George Washington born?\n"
     ]
    },
    {
     "name": "stdout",
     "output_type": "stream",
     "text": [
      "I'm sorry, I don't know the answer.\n"
     ]
    },
    {
     "name": "stdout",
     "output_type": "stream",
     "text": [
      "=?  What did George Washington do?\n"
     ]
    },
    {
     "name": "stdout",
     "output_type": "stream",
     "text": [
      "I'm sorry, I don't know the answer.\n"
     ]
    }
   ],
   "source": [
    "def main():\n",
    "    print(\"Welcome to the Question Answering System by AIT 526 Group 2. Please ask me a question about a person, place, or thing.\")\n",
    "    print(\"Type 'Exit' to close the program.\")\n",
    "    while True:\n",
    "        user_question = input(\"=? \")\n",
    "        if user_question.lower() == \"exit\":\n",
    "            print(\"Thank you! Goodbye.\")\n",
    "            break\n",
    "        logging.info(f\"Question: {user_question}\")\n",
    "\n",
    "        #a slightly more flexible way to get the search term? Try it out first\n",
    "        #unimportant_words = r\"\\b(([Ww]here|[Ww]hat|[Ww]ho|[Ww]hen) (is|was|did))( (a|the))? \\b\"\n",
    "        #noun= re.sub(unimportant_words, \"\", user_question)\n",
    "        #search_term = \"\".join(noun)\n",
    "\n",
    "        search_term = \" \".join(user_question.split()[2:])\n",
    "        if not search_term:\n",
    "            search_term = user_question.split()[1]\n",
    "        search_term = search_term.replace('?', '')\n",
    "\n",
    "        content_summary = fetch_wikipedia_summary(search_term)\n",
    "        logging.info(f\"Wikipedia Content: {content_summary[:500]}\")\n",
    "\n",
    "        if not content_summary:\n",
    "            print(\"I'm sorry, I don't know the answer.\")\n",
    "            logging.info(\"Answer: Sorry, I don't know the answer.\")\n",
    "            continue\n",
    "\n",
    "        answer = generate_response(user_question, content_summary)\n",
    "        logging.info(f\"Answer: {answer}\")\n",
    "\n",
    "        print(f\"=> {answer}\")\n",
    "\n",
    "if __name__ == \"__main__\":\n",
    "    logging.basicConfig(filename='question_log.txt', level=logging.INFO)\n",
    "    main()\n"
   ]
  },
  {
   "cell_type": "code",
   "execution_count": null,
   "id": "dac146ab-389d-490f-afdb-05ddd85bafa5",
   "metadata": {},
   "outputs": [],
   "source": []
  },
  {
   "cell_type": "code",
   "execution_count": null,
   "id": "d2e13526-d182-4314-b080-c447543e9934",
   "metadata": {},
   "outputs": [],
   "source": []
  }
 ],
 "metadata": {
  "kernelspec": {
   "display_name": "Python 3 (ipykernel)",
   "language": "python",
   "name": "python3"
  },
  "language_info": {
   "codemirror_mode": {
    "name": "ipython",
    "version": 3
   },
   "file_extension": ".py",
   "mimetype": "text/x-python",
   "name": "python",
   "nbconvert_exporter": "python",
   "pygments_lexer": "ipython3",
   "version": "3.10.14"
  }
 },
 "nbformat": 4,
 "nbformat_minor": 5
}
