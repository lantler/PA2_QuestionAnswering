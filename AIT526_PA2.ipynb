{
 "cells": [
  {
   "cell_type": "code",
   "execution_count": 1,
   "id": "d456e1f9-484f-4943-af6d-00f9fe69e58d",
   "metadata": {},
   "outputs": [],
   "source": [
    "import pandas as pd\n",
    "#from readability import Document\n",
    "\n",
    "\n",
    "#for NER\n",
    "import en_core_web_sm\n",
    "nlp= en_core_web_sm.load()\n",
    "import re\n",
    "import sys\n",
    "import nltk\n",
    "import wikipediaapi\n",
    "from nltk.tokenize import sent_tokenize, RegexpTokenizer"
   ]
  },
  {
   "cell_type": "code",
   "execution_count": 2,
   "id": "7e0c8d73",
   "metadata": {},
   "outputs": [
    {
     "name": "stderr",
     "output_type": "stream",
     "text": [
      "[nltk_data] Downloading package punkt to\n",
      "[nltk_data]     C:\\Users\\caleb\\AppData\\Roaming\\nltk_data...\n",
      "[nltk_data]   Package punkt is already up-to-date!\n",
      "[nltk_data] Downloading package averaged_perceptron_tagger to\n",
      "[nltk_data]     C:\\Users\\caleb\\AppData\\Roaming\\nltk_data...\n",
      "[nltk_data]   Package averaged_perceptron_tagger is already up-to-\n",
      "[nltk_data]       date!\n"
     ]
    },
    {
     "data": {
      "text/plain": [
       "True"
      ]
     },
     "execution_count": 2,
     "metadata": {},
     "output_type": "execute_result"
    }
   ],
   "source": [
    "# Ensure the necessary NLTK resources are available\n",
    "nltk.download('punkt')\n",
    "nltk.download('averaged_perceptron_tagger')"
   ]
  },
  {
   "cell_type": "code",
   "execution_count": 13,
   "id": "6de14a00-05c2-4e4d-b569-3a83d56c98c6",
   "metadata": {},
   "outputs": [],
   "source": [
    "# Initialize the tokenizer\n",
    "tokenizer = RegexpTokenizer(r'\\w+')\n",
    "\n",
    "# Define patterns\n",
    "who_pat = r\"\\b[Ww]ho\\b\"\n",
    "where_pat = r\"\\b[Ww]here\\b\"\n",
    "what_pat = r\"\\b[Ww]hat\\b\"\n",
    "when_pat = r\"\\b[Ww]hen\\b\"\n",
    "born_pat = r\"\\b[Bb]orn\\b\"\n",
    "\n",
    "# Initialize the spaCy model\n",
    "import spacy\n",
    "nlp = spacy.load(\"en_core_web_sm\")\n",
    "\n",
    "# Initialize global variables\n",
    "query = \"\"\n",
    "entity = \"\"\n",
    "\n",
    "#classify the query so we can know what the user wants answered\n",
    "def classify_query(query):\n",
    "    query_toks = tokenizer.tokenize(query)\n",
    "    \n",
    "    query_type = \"\"\n",
    "    for word in query_toks:\n",
    "        if re.search(who_pat, word):\n",
    "            query_type = \"Person\"\n",
    "            print(\"Person Query\")\n",
    "        elif re.search(where_pat, word):\n",
    "            query_type = \"Location\"\n",
    "            print(\"Location Query\")\n",
    "        elif re.search(what_pat, word):\n",
    "            query_type = \"Definition\"\n",
    "            print(\"Definition Query\")\n",
    "        elif re.search(when_pat, word):\n",
    "            query_type = \"Time\"\n",
    "            print(\"When Query\")\n",
    "        elif re.search(born_pat, word) and query_type == \"Time\":\n",
    "            query_type = \"Birth\"\n",
    "            print(\"Birth Query\")\n",
    "        \n",
    "    return query_toks, query_type"
   ]
  },
  {
   "cell_type": "code",
   "execution_count": 4,
   "id": "2af72f40-1339-4dca-bbee-a191513709fb",
   "metadata": {},
   "outputs": [],
   "source": [
    "#in the case of a named Entity, this fill find it\n",
    "\n",
    "def entity_search(tokenized_query):\n",
    "    global entity\n",
    "    # Join the tokens into a sentence\n",
    "    sent = \" \".join(tokenized_query)\n",
    "    # Perform NER on the sentence\n",
    "    doc = nlp(sent)\n",
    "    # Get the named entities\n",
    "    if doc.ents:\n",
    "        # Assign the first named entity to the global variable entity\n",
    "        entity = doc.ents[0].text\n",
    "    else:\n",
    "        # If no named entities are found, set entity to an empty string or other default value\n",
    "        entity = \"\"\n",
    "    \n",
    "    print(f\"Entity: {entity}\")"
   ]
  },
  {
   "cell_type": "code",
   "execution_count": 5,
   "id": "87f1d3a3-3354-4708-8091-d65e0784f404",
   "metadata": {},
   "outputs": [],
   "source": [
    "#in the case there isn't a named entity, we need to single out the key words (nouns/verbs)\n",
    "def find_key_words(query):\n",
    "    unimportant_words = r\"\\b(([Ww]here|[Ww]hat|[Ww]ho|[Ww]hen) (is|was|did))( (a|the))?\\b\"\n",
    "    key_words = re.sub(unimportant_words, \"\", query)\n",
    "    \n",
    "    print(f\"Key Words: {key_words}\")\n",
    "    return key_words"
   ]
  },
  {
   "cell_type": "code",
   "execution_count": 6,
   "id": "3a10a1a3-c5ea-4706-8f7f-46f97b396a20",
   "metadata": {},
   "outputs": [],
   "source": [
    "#sometimes the POS tags were wrong. This will try to correct it.\n",
    "\n",
    "def correct_tags(key_words):\n",
    "    corrected_tags = []\n",
    "    pos_tokens = nltk.word_tokenize(key_words)\n",
    "    tags = nltk.pos_tag(pos_tokens)\n",
    "\n",
    "    # Rule-based disambiguation\n",
    "    for i, (word, tag) in enumerate(tags):\n",
    "        if word.lower() == \"fall\" and i > 0 and tags[i-1][1] in ['NN', 'NNS', 'NNP', 'NNPS']:\n",
    "            corrected_tags.append((word, 'VB'))\n",
    "        elif word.lower() == \"die\" and i > 0 and tags[i-1][1] in ['NN', 'NNS', 'NNP', 'NNPS']:\n",
    "            corrected_tags.append((word, 'VB'))\n",
    "        elif word.lower() == \"born\" and i > 0 and tags[i-1][1] in ['NN', 'NNS', 'NNP', 'NNPS']:\n",
    "            corrected_tags.append((word, 'VB'))\n",
    "        elif word.lower() == \"start\" and i > 0 and tags[i-1][1] in ['NN', 'NNS', 'NNP', 'NNPS']:\n",
    "            corrected_tags.append((word, 'VB'))\n",
    "        else:\n",
    "            corrected_tags.append((word, tag))\n",
    "            \n",
    "    print(f\"Corrected Tags: {corrected_tags}\")\n",
    "    return corrected_tags"
   ]
  },
  {
   "cell_type": "code",
   "execution_count": 7,
   "id": "aa7d1c04-81d2-4e30-b568-b79e1cdec656",
   "metadata": {},
   "outputs": [],
   "source": [
    "#Get the nouns from the POS tags\n",
    "\n",
    "def find_noun(corrected_tags):\n",
    "    noun_tags = ['NN', 'NNS', 'NNP', 'NNPS', 'JJ', 'IN']\n",
    "\n",
    "    # Filter out only the nouns\n",
    "    nouns = [word for word, pos in corrected_tags if pos in noun_tags]\n",
    "\n",
    "    noun = \" \".join(nouns)\n",
    "    \n",
    "    print(f\"Noun: {noun}\")\n",
    "    return noun"
   ]
  },
  {
   "cell_type": "code",
   "execution_count": 8,
   "id": "35b12d7f-d0d5-4de0-b2ec-5a6624f71605",
   "metadata": {},
   "outputs": [],
   "source": [
    "#Leahs scraping code from here\n",
    "def fetch_wikipedia_summary(topic):\n",
    "    user_agent = 'PA2/1.0 (lantler@gmu.edu)'\n",
    "    wiki_api = wikipediaapi.Wikipedia('en', headers={'User-Agent': user_agent})\n",
    "    page = wiki_api.page(topic)\n",
    "    if page.exists():\n",
    "        return page.summary\n",
    "    else:\n",
    "        return \"\""
   ]
  },
  {
   "cell_type": "code",
   "execution_count": 20,
   "id": "5bf40463-bfe5-4007-b45e-5efc48e17081",
   "metadata": {},
   "outputs": [],
   "source": [
    "#Grab the response based on the question\n",
    "def generate_response(question, summary, query_type):\n",
    "    location_patterns = r\"\\b((is|was|did)* (near|around|at|spanning)+)\\b\"\n",
    "    #when patterns should hopefully also end in a number\n",
    "    when_patterns = r\"\\b((began|happened|established)+)\\b\"\n",
    "    #also need some sort of pattern for detecting (Dates)\n",
    "    born_patterns = r\"\\b([Bb]orn|(.*\\d+))\\b\"\n",
    "\n",
    "    #Need extra logic to check for name of person or thing\n",
    "    def_patterns = r\"\\b(is|was)+\\b\"\n",
    "    person_patterns = r\"\\b(is|was)+\\b\"\n",
    "    use_pattern = \"\"\n",
    "    \n",
    "    \n",
    "    #question_words = question.lower().split()\n",
    "    #subject = \" \".join(question_words[2:]).replace('?', '')\n",
    "    if query_type == \"Location\":\n",
    "        use_pattern = location_patterns\n",
    "    elif query_type == \"Time\":\n",
    "        use_pattern = when_patterns\n",
    "    elif query_type == \"Born\":\n",
    "        use_pattern = born_patterns\n",
    "    elif query_type == \"Definition\":\n",
    "        use_pattern = def_patterns\n",
    "    elif query_type == \"Person\":\n",
    "        use_pattern = person_patterns\n",
    "\n",
    "    sentences = sent_tokenize(summary)\n",
    "    \n",
    "    for sentence in sentences:\n",
    "        if re.search(use_pattern, sentence.lower()) != None:\n",
    "            return sentence.strip()\n",
    "\n",
    "    return \"I'm sorry, I don't know the answer.\""
   ]
  },
  {
   "cell_type": "code",
   "execution_count": 21,
   "id": "e5d688bb-6ac7-4af5-9aa3-6c584192ba82",
   "metadata": {},
   "outputs": [
    {
     "name": "stdin",
     "output_type": "stream",
     "text": [
      "Please ask a question, Type 'Exit' to exit:  When is George Washington?\n"
     ]
    },
    {
     "name": "stdout",
     "output_type": "stream",
     "text": [
      "When Query\n",
      "Entity: George Washington\n",
      "Key Words:  George Washington\n",
      "Corrected Tags: [('George', 'NNP'), ('Washington', 'NNP')]\n",
      "Noun: George Washington\n",
      "Time\n",
      "George Washington (February 22, 1732 – December 14, 1799) was an American Founding Father, military officer, and politician who served as the first president of the United States from 1789 to 1797. Appointed by the Second Continental Congress as commander of the Continental Army in 1775, Washington led Patriot forces to victory in the American Revolutionary War and then served as president of the Constitutional Convention in 1787, which drafted the current Constitution of the United States. Washington has thus become commonly known as the \"Father of his Country\".\n",
      "Washington's first public office, from 1749 to 1750, was as surveyor of Culpeper County in the Colony of Virginia. He subsequently received military training and was assigned command of the Virginia Regiment during the French and Indian War. He was later elected to the Virginia House of Burgesses and was named a delegate to the Continental Congress in Philadelphia, which appointed him commander-in-chief of the Continental Army. Washington led American forces to a decisive victory over the British in the Revolutionary War, leading the British to sign the Treaty of Paris, which acknowledged the sovereignty and independence of the United States. He resigned his commission in 1783 after the conclusion of the Revolutionary War.\n",
      "Washington played an indispensable role in adopting and ratifying the Constitution, which replaced the Articles of Confederation in 1789. He was then twice elected president by the Electoral College unanimously. As the first U.S. president, Washington implemented a strong, well-financed national government while remaining impartial in a fierce rivalry that emerged between cabinet members Thomas Jefferson and Alexander Hamilton. During the French Revolution, he proclaimed a policy of neutrality while additionally sanctioning the Jay Treaty. He set enduring precedents for the office of president, including republicanism, a peaceful transfer of power, the use of the title \"Mr. President\", and the two-term tradition. His 1796 farewell address became a preeminent statement on republicanism in which he wrote about the importance of national unity and the dangers that regionalism, partisanship, and foreign influence pose to it.\n",
      "Washington's image is an icon of American culture. He has been memorialized by monuments, a federal holiday, various media depictions, geographical locations including the national capital, the State of Washington, stamps, and currency. In 1976, Washington was posthumously promoted to the rank of general of the Armies, the highest rank in the U.S. Army. Washington consistently ranks in both popular and scholarly polls as one of the greatest presidents in American history.\n",
      "I'm sorry, I don't know the answer.\n"
     ]
    },
    {
     "name": "stdin",
     "output_type": "stream",
     "text": [
      "Please ask a question. Type 'exit' to exit:  When was George Washington Born?\n"
     ]
    },
    {
     "name": "stdout",
     "output_type": "stream",
     "text": [
      "When Query\n",
      "Birth Query\n",
      "Entity: George Washington\n",
      "Key Words:  George Washington Born?\n",
      "Corrected Tags: [('George', 'NNP'), ('Washington', 'NNP'), ('Born', 'VB'), ('?', '.')]\n",
      "Noun: George Washington\n",
      "Birth\n",
      "George Washington (February 22, 1732 – December 14, 1799) was an American Founding Father, military officer, and politician who served as the first president of the United States from 1789 to 1797. Appointed by the Second Continental Congress as commander of the Continental Army in 1775, Washington led Patriot forces to victory in the American Revolutionary War and then served as president of the Constitutional Convention in 1787, which drafted the current Constitution of the United States. Washington has thus become commonly known as the \"Father of his Country\".\n",
      "Washington's first public office, from 1749 to 1750, was as surveyor of Culpeper County in the Colony of Virginia. He subsequently received military training and was assigned command of the Virginia Regiment during the French and Indian War. He was later elected to the Virginia House of Burgesses and was named a delegate to the Continental Congress in Philadelphia, which appointed him commander-in-chief of the Continental Army. Washington led American forces to a decisive victory over the British in the Revolutionary War, leading the British to sign the Treaty of Paris, which acknowledged the sovereignty and independence of the United States. He resigned his commission in 1783 after the conclusion of the Revolutionary War.\n",
      "Washington played an indispensable role in adopting and ratifying the Constitution, which replaced the Articles of Confederation in 1789. He was then twice elected president by the Electoral College unanimously. As the first U.S. president, Washington implemented a strong, well-financed national government while remaining impartial in a fierce rivalry that emerged between cabinet members Thomas Jefferson and Alexander Hamilton. During the French Revolution, he proclaimed a policy of neutrality while additionally sanctioning the Jay Treaty. He set enduring precedents for the office of president, including republicanism, a peaceful transfer of power, the use of the title \"Mr. President\", and the two-term tradition. His 1796 farewell address became a preeminent statement on republicanism in which he wrote about the importance of national unity and the dangers that regionalism, partisanship, and foreign influence pose to it.\n",
      "Washington's image is an icon of American culture. He has been memorialized by monuments, a federal holiday, various media depictions, geographical locations including the national capital, the State of Washington, stamps, and currency. In 1976, Washington was posthumously promoted to the rank of general of the Armies, the highest rank in the U.S. Army. Washington consistently ranks in both popular and scholarly polls as one of the greatest presidents in American history.\n",
      "George Washington (February 22, 1732 – December 14, 1799) was an American Founding Father, military officer, and politician who served as the first president of the United States from 1789 to 1797.\n"
     ]
    },
    {
     "name": "stdin",
     "output_type": "stream",
     "text": [
      "Please ask a question. Type 'exit' to exit:  When was Barack Obama Born?\n"
     ]
    },
    {
     "name": "stdout",
     "output_type": "stream",
     "text": [
      "When Query\n",
      "Birth Query\n",
      "Entity: Barack Obama\n",
      "Key Words:  Barack Obama Born?\n",
      "Corrected Tags: [('Barack', 'NNP'), ('Obama', 'NNP'), ('Born', 'VB'), ('?', '.')]\n",
      "Noun: Barack Obama\n",
      "Birth\n",
      "Barack Hussein Obama II (born August 4, 1961) is an American politician who served as the 44th president of the United States from 2009 to 2017. As a member of the Democratic Party, he was the first African-American  president in United States history. Obama previously served as a U.S. senator representing Illinois from 2005 to 2008, as an Illinois state senator from 1997 to 2004, and as a community service organizer, civil rights lawyer, and university lecturer. \n",
      "Obama was born in Honolulu, Hawaii. He graduated from Columbia University in 1983 with a Bachelor of Arts degree in political science and later worked as a community organizer in Chicago. In 1988, Obama enrolled in Harvard Law School, where he was the first black president of the Harvard Law Review. He became a civil rights attorney and an academic, teaching constitutional law at the University of Chicago Law School from 1992 to 2004. He also went into elective politics; Obama represented the 13th district in the Illinois Senate from 1997 until 2004, when he successfully ran for the U.S. Senate. In the 2008 presidential election, after a close primary campaign against Hillary Clinton, he was nominated by the Democratic Party for president. Obama and his running mate, Joe Biden, defeated Republican nominees John McCain and Sarah Palin.\n",
      "Obama was inaugurated on January 20, 2009. Nine months later he was named the 2009 Nobel Peace Prize laureate, a decision that drew a mixture of criticism and praise. His first-term actions addressed the global financial crisis and included a major stimulus package to guide the economy in recovering from the Great Recession, a partial extension of George W. Bush's tax cuts, legislation to reform health care, a major financial regulation reform bill, and the end of a major U.S. military presence in Iraq. Obama also appointed Supreme Court justices Sonia Sotomayor and Elena Kagan, the former being the first Hispanic American on the Supreme Court. He gained widespread praise for ordering Operation Neptune Spear, the raid that killed Osama bin Laden, who was responsible for the September 11 attacks. Obama downplayed Bush's counterinsurgency model, expanding air strikes and making extensive use of special forces, while encouraging greater reliance on host-government militaries. He also ordered military involvement in Libya in order to implement UN Security Council Resolution 1973, contributing to the overthrow of Muammar Gaddafi.\n",
      "After winning re-election by defeating Republican opponent Mitt Romney in the 2012 presidential election, Obama was sworn in for a second term on January 20, 2013. In his second term, Obama took steps to combat climate change, signing a major international climate agreement and an executive order to limit carbon emissions. Obama also presided over the implementation of the Affordable Care Act and other legislation passed in his first term. He negotiated a nuclear agreement with Iran and normalized relations with Cuba. The number of American soldiers in Afghanistan fell dramatically during Obama's second term, though U.S. soldiers remained in the country throughout Obama's presidency. Obama promoted inclusion for LGBT Americans, becoming the first sitting U.S. president to publicly support same-sex marriage.\n",
      "Obama left office on January 20, 2017, and continues to reside in Washington, D.C. His presidential library in Chicago began construction in 2021. Since leaving office, Obama has remained politically active, campaigning for candidates in various American elections, including Biden's successful bid for president in 2020. Outside of politics, Obama has published three books: Dreams from My Father (1995), The Audacity of Hope (2006), and A Promised Land (2020). Historians and political scientists rank him among the upper tier in historical rankings of American presidents.\n",
      "Barack Hussein Obama II (born August 4, 1961) is an American politician who served as the 44th president of the United States from 2009 to 2017.\n"
     ]
    },
    {
     "name": "stdin",
     "output_type": "stream",
     "text": [
      "Please ask a question. Type 'exit' to exit:  Where is Russia?\n"
     ]
    },
    {
     "name": "stdout",
     "output_type": "stream",
     "text": [
      "Location Query\n",
      "Entity: Russia\n",
      "Key Words:  Russia?\n",
      "Corrected Tags: [('Russia', 'NNP'), ('?', '.')]\n",
      "Noun: Russia\n",
      "Location\n",
      "Russia, or the Russian Federation, is a country spanning Eastern Europe and North Asia. It is the largest country in the world by area, extending across eleven time zones and sharing land borders with fourteen countries. It is the world's ninth-most populous country and Europe's most populous country. Russia is a highly urbanized country including 16 population centers with over a million inhabitants. Its capital as well as its largest city is Moscow. Saint Petersburg is Russia's second-largest city and its cultural capital. \n",
      "The East Slavs emerged as a recognised group in Europe between the 3rd and 8th centuries CE. The first East Slavic state, Kievan Rus', arose in the 9th century, and in 988, it adopted Orthodox Christianity from the Byzantine Empire. Rus' ultimately disintegrated, with the Grand Duchy of Moscow growing to become the Tsardom of Russia. By the early 18th century, Russia had vastly expanded through conquest, annexation, and the efforts of Russian explorers, developing into the Russian Empire, which remains the third-largest empire in history. However, with the Russian Revolution in 1917, Russia's monarchic rule was abolished and eventually replaced by the Russian SFSR—the world's first constitutionally socialist state. Following the Russian Civil War, the Russian SFSR established the Soviet Union with three other Soviet republics, within which it was the largest and principal constituent. At the expense of millions of lives, the Soviet Union underwent rapid industrialisation in the 1930s and later played a decisive role for the Allies in World War II by leading large-scale efforts on the Eastern Front. With the onset of the Cold War, it competed with the United States for global ideological influence. The Soviet era of the 20th century saw some of the most significant Russian technological achievements, including the first human-made satellite and the first human expedition into outer space.\n",
      "In 1991, the Russian SFSR emerged from the dissolution of the Soviet Union as the independent Russian Federation. A new constitution was adopted, which established a federal semi-presidential system. Since the turn of the century, Russia's political system has been dominated by Vladimir Putin, under whom the country has experienced democratic backsliding and a shift towards authoritarianism. Russia has been militarily involved in a number of conflicts in former Soviet states and other countries, including its war with Georgia in 2008 and annexation of Crimea in 2014 from neighbouring Ukraine, followed by the further annexation of four other regions in 2022 during an ongoing invasion.\n",
      "Internationally, Russia ranks among the lowest in measurements of democracy, human rights and freedom of the press; the country also has high levels of perceived corruption. Russia's advanced economy ranks among the largest in the world, relying on its vast mineral and energy resources; the world's second  largest for oil production and natural gas production. Russia possesses the largest stockpile of nuclear weapons and has the third-highest military expenditure. The country is a permanent member of the United Nations Security Council; a member state of the G20, SCO, BRICS, APEC, OSCE, and WTO; and the leading member state of post-Soviet organisations such as CIS, CSTO, and EAEU/EEU. Russia is home to 30 UNESCO World Heritage Sites.\n",
      "Russia, or the Russian Federation, is a country spanning Eastern Europe and North Asia.\n"
     ]
    },
    {
     "name": "stdin",
     "output_type": "stream",
     "text": [
      "Please ask a question. Type 'exit' to exit:  When was russia?\n"
     ]
    },
    {
     "name": "stdout",
     "output_type": "stream",
     "text": [
      "When Query\n",
      "Entity: russia\n",
      "Key Words:  russia?\n",
      "Corrected Tags: [('russia', 'NN'), ('?', '.')]\n",
      "Noun: russia\n",
      "Time\n",
      "Russia, or the Russian Federation, is a country spanning Eastern Europe and North Asia. It is the largest country in the world by area, extending across eleven time zones and sharing land borders with fourteen countries. It is the world's ninth-most populous country and Europe's most populous country. Russia is a highly urbanized country including 16 population centers with over a million inhabitants. Its capital as well as its largest city is Moscow. Saint Petersburg is Russia's second-largest city and its cultural capital. \n",
      "The East Slavs emerged as a recognised group in Europe between the 3rd and 8th centuries CE. The first East Slavic state, Kievan Rus', arose in the 9th century, and in 988, it adopted Orthodox Christianity from the Byzantine Empire. Rus' ultimately disintegrated, with the Grand Duchy of Moscow growing to become the Tsardom of Russia. By the early 18th century, Russia had vastly expanded through conquest, annexation, and the efforts of Russian explorers, developing into the Russian Empire, which remains the third-largest empire in history. However, with the Russian Revolution in 1917, Russia's monarchic rule was abolished and eventually replaced by the Russian SFSR—the world's first constitutionally socialist state. Following the Russian Civil War, the Russian SFSR established the Soviet Union with three other Soviet republics, within which it was the largest and principal constituent. At the expense of millions of lives, the Soviet Union underwent rapid industrialisation in the 1930s and later played a decisive role for the Allies in World War II by leading large-scale efforts on the Eastern Front. With the onset of the Cold War, it competed with the United States for global ideological influence. The Soviet era of the 20th century saw some of the most significant Russian technological achievements, including the first human-made satellite and the first human expedition into outer space.\n",
      "In 1991, the Russian SFSR emerged from the dissolution of the Soviet Union as the independent Russian Federation. A new constitution was adopted, which established a federal semi-presidential system. Since the turn of the century, Russia's political system has been dominated by Vladimir Putin, under whom the country has experienced democratic backsliding and a shift towards authoritarianism. Russia has been militarily involved in a number of conflicts in former Soviet states and other countries, including its war with Georgia in 2008 and annexation of Crimea in 2014 from neighbouring Ukraine, followed by the further annexation of four other regions in 2022 during an ongoing invasion.\n",
      "Internationally, Russia ranks among the lowest in measurements of democracy, human rights and freedom of the press; the country also has high levels of perceived corruption. Russia's advanced economy ranks among the largest in the world, relying on its vast mineral and energy resources; the world's second  largest for oil production and natural gas production. Russia possesses the largest stockpile of nuclear weapons and has the third-highest military expenditure. The country is a permanent member of the United Nations Security Council; a member state of the G20, SCO, BRICS, APEC, OSCE, and WTO; and the leading member state of post-Soviet organisations such as CIS, CSTO, and EAEU/EEU. Russia is home to 30 UNESCO World Heritage Sites.\n",
      "Following the Russian Civil War, the Russian SFSR established the Soviet Union with three other Soviet republics, within which it was the largest and principal constituent.\n"
     ]
    },
    {
     "name": "stdin",
     "output_type": "stream",
     "text": [
      "Please ask a question. Type 'exit' to exit:  When was ths USA?\n"
     ]
    },
    {
     "name": "stdout",
     "output_type": "stream",
     "text": [
      "When Query\n",
      "Entity: USA\n",
      "Key Words:  ths USA?\n",
      "Corrected Tags: [('ths', 'NNS'), ('USA', 'NNP'), ('?', '.')]\n",
      "Noun: ths USA\n",
      "Time\n",
      "\n",
      "I'm sorry, I don't know the answer.\n"
     ]
    },
    {
     "name": "stdin",
     "output_type": "stream",
     "text": [
      "Please ask a question. Type 'exit' to exit:  When was the United States of America?\n"
     ]
    },
    {
     "name": "stdout",
     "output_type": "stream",
     "text": [
      "When Query\n",
      "Entity: the United States of America\n",
      "Key Words:  United States of America?\n",
      "Corrected Tags: [('United', 'NNP'), ('States', 'NNPS'), ('of', 'IN'), ('America', 'NNP'), ('?', '.')]\n",
      "Noun: United States of America\n",
      "Time\n",
      "The United States of America (USA or U.S.A.), commonly known as the United States (US or U.S.) or America, is a country primarily located in North America. It is a federation of 50 states, a federal capital district (Washington, D.C.), and 326 Indian reservations. Outside the union of states, it asserts sovereignty over five major unincorporated island territories and various uninhabited islands. The country has the world's third-largest land area, second-largest exclusive economic zone, and third-largest population, exceeding 334 million.\n",
      "Paleo-Indians migrated across the Bering land bridge more than 12,000 years ago, and went on to form various civilizations and societies. British colonization led to the first settlement of the Thirteen Colonies in Virginia in 1607. Clashes with the British Crown over taxation and political representation sparked the American Revolution, with the Second Continental Congress formally declaring independence on July 4, 1776. Following its victory in the Revolutionary War (1775–1783), the country continued to expand across North America. As more states were admitted, sectional division over slavery led to the secession of the Confederate States of America, which fought the remaining states of the Union during the 1861–1865 American Civil War. With the Union's victory and preservation, slavery was abolished nationally. By 1890, the United States had established itself as a great power. After Japan's attack on Pearl Harbor in December 1941, the U.S. entered World War II. The aftermath of the war left the U.S. and the Soviet Union as the world's two superpowers and led to the Cold War, during which both countries engaged in a struggle for ideological dominance and international influence. Following the Soviet Union's collapse and the end of the Cold War in 1991, the U.S. emerged as the world's sole superpower.\n",
      "The U.S. national government is a presidential constitutional republic and liberal democracy with three separate branches: legislative, executive, and judicial. It has a bicameral national legislature composed of the House of Representatives, a lower house based on population; and the Senate, an upper house based on equal representation for each state. Substantial autonomy is given to states and several territories, with a political culture that emphasizes liberty, equality under the law, individualism, and limited government.\n",
      "One of the world's most developed countries, the United States has had the largest nominal GDP since about 1890 and accounted for 15% of the global economy in 2023. It possesses by far the largest amount of wealth of any country and has the highest disposable household income per capita among OECD countries. The U.S. ranks among the world's highest in human rights, economic competitiveness, productivity, innovation, and higher education. Its hard power and cultural influence have a global reach. The U.S. is a founding member of the World Bank, Organization of American States, NATO, and United Nations, as well as a permanent member of the UN Security Council.\n",
      "By 1890, the United States had established itself as a great power.\n"
     ]
    },
    {
     "name": "stdin",
     "output_type": "stream",
     "text": [
      "Please ask a question. Type 'exit' to exit:  What is the Chernobyl Disaster?\n"
     ]
    },
    {
     "name": "stdout",
     "output_type": "stream",
     "text": [
      "Definition Query\n",
      "Entity: \n",
      "Key Words:  Chernobyl Disaster?\n",
      "Corrected Tags: [('Chernobyl', 'NNP'), ('Disaster', 'NNP'), ('?', '.')]\n",
      "Noun: Chernobyl Disaster\n",
      "Definition\n",
      "The Chernobyl disaster began on 26 April 1986 with the explosion of the No. 4 reactor of the Chernobyl Nuclear Power Plant near the city of Pripyat in the north of the Ukrainian SSR, close to the border with the Byelorussian SSR, in the Soviet Union. It is one of only two nuclear energy accidents rated at seven—the maximum severity—on the International Nuclear Event Scale, the other being the 2011 Fukushima nuclear accident. The initial emergency response and subsequent mitigation efforts involved more than 500,000 personnel and cost an estimated 18 billion roubles—roughly US$68 billion in 2019, adjusted for inflation. It was the worst nuclear disaster in history, and the costliest disaster in human history, costing an estimated US$700 billion.\n",
      "The accident occurred during a test of the steam turbine's ability to power the emergency feedwater pumps in the event of a simultaneous loss of external power and coolant pipe rupture. Following an accidental drop in reactor power to near-zero, the operators restarted the reactor in preparation for the turbine test with a prohibited control rod configuration. Upon successful completion of the test, the reactor was then shut down for maintenance. Due to a variety of factors, this action resulted in a power surge at the base of the reactor which brought about the rupture of reactor components and the loss of coolant. This process led to steam explosions and a meltdown, which destroyed the containment building. This was followed by a reactor core fire which lasted until 4 May 1986, during which airborne radioactive contaminants were spread throughout the USSR and Europe. In response to the initial accident, a 10-kilometre (6.2 mi) radius exclusion zone was created 36 hours after the accident, from which approximately 49,000 people were evacuated, primarily from Pripyat. The exclusion zone was later increased to a radius of 30 kilometres (19 mi), from which an additional ~68,000 people were evacuated.\n",
      "Following the reactor explosion, which killed two engineers and severely burned two more, an emergency operation to put out the fires and stabilize the surviving reactor began, during which 237 workers were hospitalized, of whom 134 exhibited symptoms of acute radiation syndrome (ARS). Among those hospitalized, 28 died within the following three months. In the following 10 years, 14 more workers (9 of whom had been hospitalized with ARS) died of various causes mostly unrelated to radiation exposure. It remains the only time in the history of commercial nuclear power that radiation-related fatalities occurred. 15 childhood thyroid cancer deaths were attributed to the disaster as of 2011. A United Nations committee found that to date fewer than 100 deaths have resulted from the fallout. Model predictions of the eventual total death toll in the coming decades vary. The most widely cited study conducted by the World Health Organization in 2006, predicted 9,000 cancer-related fatalities in Ukraine, Belarus and Russia.\n",
      "Following the disaster, Pripyat was abandoned and eventually replaced by the new purpose-built city of Slavutych. The Chernobyl Nuclear Power Plant sarcophagus was built by December 1986. It reduced the spread of radioactive contamination from the wreckage and protected the site from weathering. The confinement shelter also provided radiological protection for the crews of the undamaged reactors at the site, which were restarted in late 1986 and 1987. However, the containment structure was only intended to last for 30 years, and required sizeable reinforcement in the early 2000s. The shelter was largely supplemented in 2017 by the Chernobyl New Safe Confinement, which was constructed around the old sarcophagus structure. The new enclosure aims to enable the removal of the sarcophagus and the reactor debris while containing the radioactive materials inside, with clean-up scheduled for completion by 2065.\n",
      "It is one of only two nuclear energy accidents rated at seven—the maximum severity—on the International Nuclear Event Scale, the other being the 2011 Fukushima nuclear accident.\n"
     ]
    },
    {
     "name": "stdin",
     "output_type": "stream",
     "text": [
      "Please ask a question. Type 'exit' to exit:  When did the Chernobyl Disaster happen?\n"
     ]
    },
    {
     "name": "stdout",
     "output_type": "stream",
     "text": [
      "When Query\n",
      "Entity: \n",
      "Key Words:  Chernobyl Disaster happen?\n",
      "Corrected Tags: [('Chernobyl', 'NNP'), ('Disaster', 'NNP'), ('happen', 'VB'), ('?', '.')]\n",
      "Noun: Chernobyl Disaster\n",
      "Time\n",
      "The Chernobyl disaster began on 26 April 1986 with the explosion of the No. 4 reactor of the Chernobyl Nuclear Power Plant near the city of Pripyat in the north of the Ukrainian SSR, close to the border with the Byelorussian SSR, in the Soviet Union. It is one of only two nuclear energy accidents rated at seven—the maximum severity—on the International Nuclear Event Scale, the other being the 2011 Fukushima nuclear accident. The initial emergency response and subsequent mitigation efforts involved more than 500,000 personnel and cost an estimated 18 billion roubles—roughly US$68 billion in 2019, adjusted for inflation. It was the worst nuclear disaster in history, and the costliest disaster in human history, costing an estimated US$700 billion.\n",
      "The accident occurred during a test of the steam turbine's ability to power the emergency feedwater pumps in the event of a simultaneous loss of external power and coolant pipe rupture. Following an accidental drop in reactor power to near-zero, the operators restarted the reactor in preparation for the turbine test with a prohibited control rod configuration. Upon successful completion of the test, the reactor was then shut down for maintenance. Due to a variety of factors, this action resulted in a power surge at the base of the reactor which brought about the rupture of reactor components and the loss of coolant. This process led to steam explosions and a meltdown, which destroyed the containment building. This was followed by a reactor core fire which lasted until 4 May 1986, during which airborne radioactive contaminants were spread throughout the USSR and Europe. In response to the initial accident, a 10-kilometre (6.2 mi) radius exclusion zone was created 36 hours after the accident, from which approximately 49,000 people were evacuated, primarily from Pripyat. The exclusion zone was later increased to a radius of 30 kilometres (19 mi), from which an additional ~68,000 people were evacuated.\n",
      "Following the reactor explosion, which killed two engineers and severely burned two more, an emergency operation to put out the fires and stabilize the surviving reactor began, during which 237 workers were hospitalized, of whom 134 exhibited symptoms of acute radiation syndrome (ARS). Among those hospitalized, 28 died within the following three months. In the following 10 years, 14 more workers (9 of whom had been hospitalized with ARS) died of various causes mostly unrelated to radiation exposure. It remains the only time in the history of commercial nuclear power that radiation-related fatalities occurred. 15 childhood thyroid cancer deaths were attributed to the disaster as of 2011. A United Nations committee found that to date fewer than 100 deaths have resulted from the fallout. Model predictions of the eventual total death toll in the coming decades vary. The most widely cited study conducted by the World Health Organization in 2006, predicted 9,000 cancer-related fatalities in Ukraine, Belarus and Russia.\n",
      "Following the disaster, Pripyat was abandoned and eventually replaced by the new purpose-built city of Slavutych. The Chernobyl Nuclear Power Plant sarcophagus was built by December 1986. It reduced the spread of radioactive contamination from the wreckage and protected the site from weathering. The confinement shelter also provided radiological protection for the crews of the undamaged reactors at the site, which were restarted in late 1986 and 1987. However, the containment structure was only intended to last for 30 years, and required sizeable reinforcement in the early 2000s. The shelter was largely supplemented in 2017 by the Chernobyl New Safe Confinement, which was constructed around the old sarcophagus structure. The new enclosure aims to enable the removal of the sarcophagus and the reactor debris while containing the radioactive materials inside, with clean-up scheduled for completion by 2065.\n",
      "The Chernobyl disaster began on 26 April 1986 with the explosion of the No.\n"
     ]
    },
    {
     "name": "stdin",
     "output_type": "stream",
     "text": [
      "Please ask a question. Type 'exit' to exit:  exit\n"
     ]
    }
   ],
   "source": [
    "def main():\n",
    "    global query, entity\n",
    "\n",
    "    while query.lower() != 'exit':\n",
    "        tokens, query_type = classify_query(query)\n",
    "        entity_search(tokens)\n",
    "        key_words = find_key_words(query)\n",
    "        corrected_tags = correct_tags(key_words)\n",
    "        noun = find_noun(corrected_tags)\n",
    "        print(query_type)\n",
    "        \n",
    "        search_term = \"\".join(noun)\n",
    "        content_summary = fetch_wikipedia_summary(search_term)\n",
    "        print(content_summary)\n",
    "        \n",
    "        if entity:\n",
    "            answer = generate_response(entity, content_summary, query_type)\n",
    "        else:\n",
    "            answer = generate_response(search_term, content_summary, query_type)\n",
    "        \n",
    "        print(answer)\n",
    "        \n",
    "        query = input(\"Please ask a question. Type 'exit' to exit: \")\n",
    "\n",
    "if __name__ == \"__main__\":\n",
    "    query = input(\"Please ask a question, Type 'Exit' to exit: \").strip()\n",
    "    pattern = r'[^\\w\\s]'\n",
    "    query = re.sub(pattern, '', query)\n",
    "\n",
    "    main()"
   ]
  },
  {
   "cell_type": "code",
   "execution_count": null,
   "id": "a29afbeb-a1f6-4c59-8314-68dd9a6c4351",
   "metadata": {},
   "outputs": [],
   "source": [
    "#All that's left to do is parse through the content summary and find relavent information for more complicated questions.\n",
    "#having the query type and associated verb will help to specify what the user wants answered"
   ]
  }
 ],
 "metadata": {
  "kernelspec": {
   "display_name": "Python 3 (ipykernel)",
   "language": "python",
   "name": "python3"
  },
  "language_info": {
   "codemirror_mode": {
    "name": "ipython",
    "version": 3
   },
   "file_extension": ".py",
   "mimetype": "text/x-python",
   "name": "python",
   "nbconvert_exporter": "python",
   "pygments_lexer": "ipython3",
   "version": "3.11.7"
  }
 },
 "nbformat": 4,
 "nbformat_minor": 5
}
