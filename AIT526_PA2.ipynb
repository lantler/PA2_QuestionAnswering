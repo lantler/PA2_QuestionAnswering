{
 "cells": [
  {
   "cell_type": "code",
   "execution_count": 1,
   "id": "d456e1f9-484f-4943-af6d-00f9fe69e58d",
   "metadata": {},
   "outputs": [],
   "source": [
    "import bs4 as bs\n",
    "import urllib.request\n",
    "import re\n",
    "import spacy\n",
    "import pandas as pd\n",
    "from bs4 import BeautifulSoup\n",
    "from readability import Document\n",
    "import nltk\n",
    "from nltk.tokenize import word_tokenize, sent_tokenize\n",
    "from nltk.tokenize import RegexpTokenizer\n",
    "\n",
    "#for NER\n",
    "import en_core_web_sm\n",
    "nlp= en_core_web_sm.load()\n",
    "\n",
    "from spacy import displacy"
   ]
  },
  {
   "cell_type": "code",
   "execution_count": 2,
   "id": "5f72050c-776b-473a-8f33-c0f3e167d45a",
   "metadata": {},
   "outputs": [],
   "source": [
    "import wikipediaapi"
   ]
  },
  {
   "cell_type": "code",
   "execution_count": 3,
   "id": "61149e3b-5eb1-4283-ab12-257acd288762",
   "metadata": {},
   "outputs": [],
   "source": [
    "from pprint import pprint"
   ]
  },
  {
   "cell_type": "code",
   "execution_count": 19,
   "id": "6c7d490d-8c80-46ae-bef7-7e4e6084219b",
   "metadata": {
    "tags": []
   },
   "outputs": [
    {
     "name": "stdin",
     "output_type": "stream",
     "text": [
      "Please ask a question, Type 'Exit' to exit:  When did the Berlin Wall fall?\n"
     ]
    }
   ],
   "source": [
    "query = input(\"Please ask a question, Type 'Exit' to exit: \")"
   ]
  },
  {
   "cell_type": "code",
   "execution_count": 20,
   "id": "6de14a00-05c2-4e4d-b569-3a83d56c98c6",
   "metadata": {},
   "outputs": [],
   "source": [
    "pattern = r'[^\\w\\s]'\n",
    "\n",
    "query= re.sub(pattern, '', query)"
   ]
  },
  {
   "cell_type": "code",
   "execution_count": 21,
   "id": "2af72f40-1339-4dca-bbee-a191513709fb",
   "metadata": {},
   "outputs": [
    {
     "name": "stdout",
     "output_type": "stream",
     "text": [
      "When did the Berlin Wall fall\n"
     ]
    }
   ],
   "source": [
    "print(query)"
   ]
  },
  {
   "cell_type": "code",
   "execution_count": 22,
   "id": "87f1d3a3-3354-4708-8091-d65e0784f404",
   "metadata": {},
   "outputs": [],
   "source": [
    "tokenizer = RegexpTokenizer(r'\\w+')\n",
    "\n",
    "who_pat= r\"\\b[Ww]ho\\b\"\n",
    "where_pat = r\"\\b[Ww]here\\b\"\n",
    "what_pat = r\"\\b[Ww]hat\\b\"\n",
    "when_pat = r\"\\b[Ww]hen\\b\"\n",
    "\n",
    "#tokenize and match query type\n",
    "def classify_query(query):\n",
    "    query_toks = tokenizer.tokenize(query)\n",
    "    \n",
    "    query_type= \"\"\n",
    "    for word in query_toks:\n",
    "        if re.search(who_pat, word):\n",
    "            query_type= \"Person\"\n",
    "            print(\"Person Query\")\n",
    "        elif re.search(where_pat, word):\n",
    "            query_type= \"Location\"\n",
    "            print(\"Location Query\")\n",
    "        elif re.search(what_pat, word):\n",
    "            query_type= \"Definition\"\n",
    "            print(\"Definition Query\")\n",
    "        elif re.search(when_pat, word):\n",
    "            query_type= \"Time\"\n",
    "            print(\"When Query\")\n",
    "        \n",
    "    return query_toks, query_type"
   ]
  },
  {
   "cell_type": "code",
   "execution_count": 23,
   "id": "3a10a1a3-c5ea-4706-8f7f-46f97b396a20",
   "metadata": {},
   "outputs": [
    {
     "name": "stdout",
     "output_type": "stream",
     "text": [
      "When Query\n"
     ]
    }
   ],
   "source": [
    "tokens, query_type= classify_query(query)"
   ]
  },
  {
   "cell_type": "code",
   "execution_count": 24,
   "id": "aa7d1c04-81d2-4e30-b568-b79e1cdec656",
   "metadata": {},
   "outputs": [
    {
     "name": "stdout",
     "output_type": "stream",
     "text": [
      "['When', 'did', 'the', 'Berlin', 'Wall', 'fall']\n"
     ]
    }
   ],
   "source": [
    "print(tokens)"
   ]
  },
  {
   "cell_type": "code",
   "execution_count": 25,
   "id": "b25a2068-dbd1-41c3-97df-104aaff9825e",
   "metadata": {},
   "outputs": [],
   "source": [
    "#now that we have the query type, we can join the query and perform NER on it..."
   ]
  },
  {
   "cell_type": "code",
   "execution_count": 26,
   "id": "35b12d7f-d0d5-4de0-b2ec-5a6624f71605",
   "metadata": {},
   "outputs": [
    {
     "name": "stdout",
     "output_type": "stream",
     "text": [
      "the Berlin Wall\n"
     ]
    }
   ],
   "source": [
    "entity = \"\"\n",
    "\n",
    "def entity_search(tokenized_query):\n",
    "    global entity\n",
    "    #search for named entities\n",
    "    sent= \" \".join(tokens)\n",
    "    sent= nlp(sent)\n",
    "    #Get the named entities\n",
    "    if sent.ents:\n",
    "        # Assign the first named entity to the global variable entity\n",
    "        entity = sent.ents[0].text\n",
    "    else:\n",
    "        # If no named entities are found, set entity to an empty string or other default value\n",
    "        entity = \"\"\n",
    "    \n",
    "    print(entity)\n",
    "\n",
    "entity_search(tokens)"
   ]
  },
  {
   "cell_type": "code",
   "execution_count": 27,
   "id": "5bf40463-bfe5-4007-b45e-5efc48e17081",
   "metadata": {},
   "outputs": [],
   "source": [
    "#have to have a different entity identifier if there is no proper noun\n",
    "#example query: What is a bicycle\n",
    "#want to return \"bicycle\"\n",
    "key_words= \"\"\n",
    "\n",
    "def find_key_words(tokens):\n",
    "    unimportant_words = r\"\\b(([Ww]here|[Ww]hat|[Ww]ho|[Ww]hen|[Ww]hat) (is|was|did))( (a|the))? \\b\"\n",
    "\n",
    "    key_words= re.sub(unimportant_words, \"\", query)\n",
    "    return key_words"
   ]
  },
  {
   "cell_type": "code",
   "execution_count": 34,
   "id": "e5d688bb-6ac7-4af5-9aa3-6c584192ba82",
   "metadata": {},
   "outputs": [],
   "source": [
    "key_words= find_key_words(query)"
   ]
  },
  {
   "cell_type": "code",
   "execution_count": 35,
   "id": "2cf57329-499d-4921-8588-b87dbb1306bf",
   "metadata": {},
   "outputs": [
    {
     "name": "stdout",
     "output_type": "stream",
     "text": [
      "Berlin Wall fall\n"
     ]
    }
   ],
   "source": [
    "print(key_words)"
   ]
  },
  {
   "cell_type": "code",
   "execution_count": 36,
   "id": "14c77c41-0e8d-45dd-83f2-ed9331da72e1",
   "metadata": {},
   "outputs": [
    {
     "name": "stdout",
     "output_type": "stream",
     "text": [
      "[('Berlin', 'NNP'), ('Wall', 'NNP'), ('fall', 'NN')]\n",
      "[('Berlin', 'NNP'), ('Wall', 'NNP'), ('fall', 'VB')]\n"
     ]
    }
   ],
   "source": [
    "from nltk import pos_tag\n",
    "\n",
    "pos_tokens= nltk.word_tokenize(key_words)\n",
    "tags= nltk.pos_tag(pos_tokens)\n",
    "\n",
    "print(tags)\n",
    "\n",
    "#For more complex questions we have to tag potential verbs. A lot of verbs were being mistagged so I am going in with rule-based disambiguation here.\n",
    "\n",
    "for i, (word, tag) in enumerate(tags):\n",
    "        # Example rule: if the word is \"fall\" and the previous word is a noun (NN, NNS, NNP, NNPS), tag it as a verb (VB)\n",
    "    if word.lower() == \"fall\" and i > 0 and tags[i-1][1] in ['NN', 'NNS', 'NNP', 'NNPS']:\n",
    "        corrected_tags.append((word, 'VB'))\n",
    "    elif word.lower() == \"die\" and i > 0 and tags[i-1][1] in ['NN', 'NNS', 'NNP', 'NNPS']:\n",
    "        corrected_tags.append((word, 'VB'))\n",
    "    elif word.lower() == \"born\" and i > 0 and tags[i-1][1] in ['NN', 'NNS', 'NNP', 'NNPS']:\n",
    "        corrected_tags.append((word, 'VB'))\n",
    "    elif word.lower() == \"start\" and i > 0 and tags[i-1][1] in ['NN', 'NNS', 'NNP', 'NNPS']:\n",
    "        corrected_tags.append((word, 'VB'))\n",
    "    else:\n",
    "        corrected_tags.append((word, tag))\n",
    "\n",
    "print(corrected_tags)\n"
   ]
  },
  {
   "cell_type": "code",
   "execution_count": 37,
   "id": "ffa23e62-7947-4924-a6a0-77609a091d7c",
   "metadata": {},
   "outputs": [],
   "source": [
    "# Define the noun types\n",
    "# JJ added for certain cases\n",
    "noun_tags = ['NN', 'NNS', 'NNP', 'NNPS', 'JJ', 'IN']\n",
    "\n",
    "# Filter out only the nouns\n",
    "nouns = [word for word, pos in corrected_tags if pos in noun_tags]\n",
    "\n",
    "noun = \" \".join(nouns)"
   ]
  },
  {
   "cell_type": "code",
   "execution_count": 38,
   "id": "b8f31730-e07e-47dd-b64f-4e75bd908911",
   "metadata": {},
   "outputs": [
    {
     "name": "stdout",
     "output_type": "stream",
     "text": [
      "Berlin Wall\n"
     ]
    }
   ],
   "source": [
    "print(noun)"
   ]
  },
  {
   "cell_type": "code",
   "execution_count": 16,
   "id": "4a976b29-01ac-4cc6-9a71-cfb0a94e06b7",
   "metadata": {},
   "outputs": [],
   "source": [
    "#Leah's code for scraping and response generation"
   ]
  },
  {
   "cell_type": "code",
   "execution_count": 39,
   "id": "584e1a09-9016-4f85-8f3d-6a75e07e5042",
   "metadata": {},
   "outputs": [],
   "source": [
    "def fetch_wikipedia_summary(topic):\n",
    "    user_agent = 'PA2/1.0 (lantler@gmu.edu)'\n",
    "    wiki_api = wikipediaapi.Wikipedia('en', headers={'User-Agent': user_agent})\n",
    "    page = wiki_api.page(topic)\n",
    "    if page.exists():\n",
    "        return page.summary\n",
    "    else:\n",
    "        return \"\""
   ]
  },
  {
   "cell_type": "code",
   "execution_count": 40,
   "id": "3617c1df-1d79-4611-80e7-cdb02a737071",
   "metadata": {},
   "outputs": [
    {
     "name": "stdout",
     "output_type": "stream",
     "text": [
      "The Berlin Wall (German: Berliner Mauer, pronounced [bɛʁˌliːnɐ ˈmaʊɐ] ) was a guarded concrete barrier that encircled West Berlin of the Federal Republic of Germany (FRG; West Germany) from 1961 to 1989, separating it from East Berlin and the German Democratic Republic (GDR; East Germany). Construction of the Berlin Wall was commenced by the government of the GDR on 13 August 1961. It included guard towers placed along large concrete walls, accompanied by a wide area (later known as the \"death strip\") that contained anti-vehicle trenches, beds of nails and other defenses. The primary intention for the Wall's construction was to prevent East German citizens from fleeing to the West.\n",
      "The Soviet Bloc propaganda portrayed the Wall as protecting its population from \"fascist elements conspiring to prevent the will of the people\" from building a communist state in the GDR. The authorities officially referred to the Berlin Wall as the Anti-Fascist Protection Rampart (German: Antifaschistischer Schutzwall, pronounced [antifaˌʃɪstɪʃɐ ˈʃʊtsval] ). Conversely, West Berlin's city government sometimes referred to it as the \"Wall of Shame\", a term coined by mayor Willy Brandt in reference to the Wall's restriction on freedom of movement. Along with the separate and much longer inner German border, which demarcated the border between East and West Germany, it came to symbolize physically the Iron Curtain that separated the Western Bloc and Soviet satellite states of the Eastern Bloc during the Cold War.\n",
      "Before the Wall's erection, 3.5 million East Germans circumvented Eastern Bloc emigration restrictions and defected from the GDR, many by crossing over the border from East Berlin into West Berlin; from there they could then travel to West Germany and to other Western European countries. Between 1961 and 1989, the deadly force associated with the Wall prevented almost all such emigration. During this period, over 100,000 people attempted to escape, and over 5,000 people succeeded in escaping over the Wall, with an estimated death toll of those murdered by East German authorities ranging from 136 to more than 200 in and around Berlin.\n",
      "In 1989, a series of revolutions in nearby Eastern Bloc countries—in Poland and Hungary in particular—caused a chain reaction in East Germany. In particular, the Pan-European Picnic in August 1989 set in motion a peaceful development during which the Iron Curtain largely broke, the rulers in the East came under pressure to cease their repressive policies, the Berlin Wall fell and finally the Eastern Bloc collapsed. After several weeks of civil unrest, the East German government announced on 9 November 1989 that all GDR citizens could visit the FRG and West Berlin. Crowds of East Germans crossed and climbed onto the Wall, joined by West Germans on the other side in a celebratory atmosphere. Over the next few weeks, souvenir hunters chipped away parts of the Wall. The Brandenburg Gate, a few meters from the Berlin Wall, was opened on 22 December 1989. The demolition of the Wall officially began on 13 June 1990 and was completed in 1994. The fall of the Berlin Wall paved the way for German reunification, which formally took place on 3 October 1990.\n"
     ]
    }
   ],
   "source": [
    "search_term = \"\".join(noun)\n",
    "content_summary = fetch_wikipedia_summary(search_term)\n",
    "print(content_summary)"
   ]
  },
  {
   "cell_type": "code",
   "execution_count": 41,
   "id": "ca7dd9bd-6f78-425e-90e1-82ea450433d5",
   "metadata": {},
   "outputs": [],
   "source": [
    "def generate_response(question, summary):\n",
    "    question_words = question.lower().split()\n",
    "    subject = \" \".join(question_words[2:]).replace('?', '')\n",
    "\n",
    "    sentences = sent_tokenize(summary)\n",
    "    \n",
    "    for sentence in sentences:\n",
    "        if subject.lower() in sentence.lower():\n",
    "            return sentence.strip()\n",
    "\n",
    "    return \"I'm sorry, I don't know the answer.\""
   ]
  },
  {
   "cell_type": "code",
   "execution_count": 42,
   "id": "4843505d-e5ba-4b46-9285-4dc0860306c1",
   "metadata": {},
   "outputs": [],
   "source": [
    "#sometimes the entity output is more accurate than the stripped search term\n",
    "if entity:\n",
    "    answer = generate_response(entity, content_summary)\n",
    "else:\n",
    "    answer = generate_response(search_term, content_summary)"
   ]
  },
  {
   "cell_type": "code",
   "execution_count": 43,
   "id": "d980f50d-08c8-415c-9d91-7cf410035504",
   "metadata": {},
   "outputs": [
    {
     "name": "stdout",
     "output_type": "stream",
     "text": [
      "The Berlin Wall (German: Berliner Mauer, pronounced [bɛʁˌliːnɐ ˈmaʊɐ] ) was a guarded concrete barrier that encircled West Berlin of the Federal Republic of Germany (FRG; West Germany) from 1961 to 1989, separating it from East Berlin and the German Democratic Republic (GDR; East Germany).\n"
     ]
    }
   ],
   "source": [
    "print(answer)"
   ]
  },
  {
   "cell_type": "code",
   "execution_count": null,
   "id": "f1628261-a797-4deb-b70e-73ffee3c310d",
   "metadata": {},
   "outputs": [],
   "source": []
  },
  {
   "cell_type": "code",
   "execution_count": null,
   "id": "a29afbeb-a1f6-4c59-8314-68dd9a6c4351",
   "metadata": {},
   "outputs": [],
   "source": [
    "#All that's left to do is parse through the content summary and find relavent information for more complicated questions.\n",
    "#having the query type and associated verb will help to specify what the user wants answered"
   ]
  }
 ],
 "metadata": {
  "kernelspec": {
   "display_name": "Python 3 (ipykernel)",
   "language": "python",
   "name": "python3"
  },
  "language_info": {
   "codemirror_mode": {
    "name": "ipython",
    "version": 3
   },
   "file_extension": ".py",
   "mimetype": "text/x-python",
   "name": "python",
   "nbconvert_exporter": "python",
   "pygments_lexer": "ipython3",
   "version": "3.11.4"
  }
 },
 "nbformat": 4,
 "nbformat_minor": 5
}
