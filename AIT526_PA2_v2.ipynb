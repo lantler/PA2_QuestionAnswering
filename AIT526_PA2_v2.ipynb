{
 "cells": [
  {
   "cell_type": "code",
   "execution_count": 56,
   "id": "3fb54c16-cbc3-4a08-b60f-0b0472aa5914",
   "metadata": {},
   "outputs": [
    {
     "data": {
      "text/plain": [
       "True"
      ]
     },
     "execution_count": 56,
     "metadata": {},
     "output_type": "execute_result"
    }
   ],
   "source": [
    "import pandas as pd\n",
    "#from readability import Document\n",
    "\n",
    "\n",
    "#for NER\n",
    "import en_core_web_sm\n",
    "nlp= en_core_web_sm.load()\n",
    "import re\n",
    "import sys\n",
    "import nltk\n",
    "import wikipediaapi\n",
    "from nltk.tokenize import sent_tokenize, RegexpTokenizer, word_tokenize\n",
    "\n",
    "import spacy\n",
    "from spacy.matcher import Matcher\n",
    "\n",
    "nltk.download('punkt', quiet=True)"
   ]
  },
  {
   "cell_type": "code",
   "execution_count": 10,
   "id": "2924a607-5502-4a95-812a-771bfa6f4693",
   "metadata": {},
   "outputs": [],
   "source": [
    "def get_user_input():\n",
    "    userInput = input(\"> \")\n",
    "    return userInput"
   ]
  },
  {
   "cell_type": "code",
   "execution_count": 11,
   "id": "6853df78-d889-45b8-b2ea-c0fc3eb0515e",
   "metadata": {},
   "outputs": [],
   "source": [
    "def end_condition(text):\n",
    "    tmptxt = text\n",
    "    pattern = r'[^A-Za-z]' # Remove non-letter characters (I nuke the punctuation)\n",
    "    tmptxt = re.sub(pattern, '', tmptxt)\n",
    "    tmptxt = tmptxt.lower()\n",
    "    if tmptxt == 'exit':\n",
    "        return False\n",
    "    else:\n",
    "        return True"
   ]
  },
  {
   "cell_type": "code",
   "execution_count": 12,
   "id": "d7b10f45-7ccd-4107-8a67-b10db00b89ea",
   "metadata": {},
   "outputs": [],
   "source": [
    "#Leahs scraping code from here\n",
    "def fetch_wikipedia_summary(topic):\n",
    "    user_agent = 'PA2/1.0 (lantler@gmu.edu)'\n",
    "    wiki_api = wikipediaapi.Wikipedia('en', headers={'User-Agent': user_agent})\n",
    "    page = wiki_api.page(topic)\n",
    "    if page.exists():\n",
    "        return page.summary\n",
    "    else:\n",
    "        return \"\""
   ]
  },
  {
   "cell_type": "code",
   "execution_count": 16,
   "id": "97385a84-6610-45e4-916a-ae36beffa910",
   "metadata": {},
   "outputs": [],
   "source": [
    "def correct_tags(key_words):\n",
    "    corrected_tags = []\n",
    "    pos_tokens = nltk.word_tokenize(key_words)\n",
    "    tags = nltk.pos_tag(pos_tokens)\n",
    "\n",
    "    # Rule-based disambiguation\n",
    "    for i, (word, tag) in enumerate(tags):\n",
    "        if word.lower() == \"fall\" and i > 0 and tags[i-1][1] in ['NN', 'NNS', 'NNP', 'NNPS']:\n",
    "            corrected_tags.append((word, 'VB'))\n",
    "        elif word.lower() == \"die\" and i > 0 and tags[i-1][1] in ['NN', 'NNS', 'NNP', 'NNPS']:\n",
    "            corrected_tags.append((word, 'VB'))\n",
    "        elif word.lower() == \"born\" and i > 0 and tags[i-1][1] in ['NN', 'NNS', 'NNP', 'NNPS']:\n",
    "            corrected_tags.append((word, 'VB'))\n",
    "        elif word.lower() == \"start\" and i > 0 and tags[i-1][1] in ['NN', 'NNS', 'NNP', 'NNPS']:\n",
    "            corrected_tags.append((word, 'VB'))\n",
    "        else:\n",
    "            corrected_tags.append((word, tag))\n",
    "    return corrected_tags"
   ]
  },
  {
   "cell_type": "code",
   "execution_count": 17,
   "id": "a7042024-f154-42d6-a9f8-0f87bf8459dc",
   "metadata": {},
   "outputs": [],
   "source": [
    "def find_key_words(query):\n",
    "    unimportant_words = r\"\\b(([Ww]here|[Ww]hat|[Ww]ho|[Ww]hen) (is|was|did))( (a|the))?\\b\"\n",
    "    key_words = re.sub(unimportant_words, \"\", query)\n",
    "    return key_words"
   ]
  },
  {
   "cell_type": "code",
   "execution_count": 18,
   "id": "bdc3485c-1344-41ab-a53d-784c7653f660",
   "metadata": {},
   "outputs": [],
   "source": [
    "def find_noun(corrected_tags):\n",
    "    noun_tags = ['NN', 'NNS', 'NNP', 'NNPS', 'JJ', 'IN']\n",
    "\n",
    "    # Filter out only the nouns\n",
    "    nouns = [word for word, pos in corrected_tags if pos in noun_tags]\n",
    "    noun = \" \".join(nouns)\n",
    "\n",
    "    return noun"
   ]
  },
  {
   "cell_type": "code",
   "execution_count": 19,
   "id": "e129f5a5-332a-485a-96ed-68b8c64fe0b1",
   "metadata": {},
   "outputs": [],
   "source": [
    "def gen_search_terms(query):\n",
    "    # Find the key words\n",
    "    key_words = find_key_words(query)\n",
    "    \n",
    "    # Then, Create tags on these key words\n",
    "    corrected_tags = correct_tags(key_words)\n",
    "\n",
    "    # Then, find nouns\n",
    "    noun = find_noun(corrected_tags)\n",
    "\n",
    "    # Join nouns\n",
    "    search_term = \"\".join(noun)\n",
    "    \n",
    "    return search_term"
   ]
  },
  {
   "cell_type": "code",
   "execution_count": 24,
   "id": "ab1a7113-3bec-4098-b66e-f70287ca2b8b",
   "metadata": {},
   "outputs": [],
   "source": [
    "#Leahs scraping code from here\n",
    "def fetch_wikipedia_summary(topic):\n",
    "    user_agent = 'PA2/1.0 (lantler@gmu.edu)'\n",
    "    wiki_api = wikipediaapi.Wikipedia('en', headers={'User-Agent': user_agent})\n",
    "    page = wiki_api.page(topic)\n",
    "    if page.exists():\n",
    "        return page.summary\n",
    "    else:\n",
    "        return \"\""
   ]
  },
  {
   "cell_type": "code",
   "execution_count": 65,
   "id": "a8bf3ab3-6a66-4039-9dcc-31872cd4e7ea",
   "metadata": {},
   "outputs": [],
   "source": [
    "def entity_search(text):\n",
    "    # Perform NER on the text\n",
    "    doc = nlp(text)\n",
    "    # Get the named entities\n",
    "    if doc.ents:\n",
    "        # Assign the first named entity to the global variable entity\n",
    "        entity = doc.ents[0].text\n",
    "    else:\n",
    "        # If no named entities are found, set entity to an empty string or other default value\n",
    "        entity = \"\"\n",
    "    return entity\n",
    "\n",
    "def get_first_date(text):\n",
    "    doc = nlp(text)\n",
    "\n",
    "    first_date = None\n",
    "    # Iterate through entities to find the first date\n",
    "    for ent in doc.ents:\n",
    "        if ent.label_ == 'DATE':\n",
    "            first_date = ent.text\n",
    "            break  # Stop as soon as the first date is found\n",
    "    \n",
    "    return first_date\n",
    "\n",
    "def find_sentence_with_date(text):\n",
    "    doc = nlp(text)\n",
    "    \n",
    "    matcher = Matcher(nlp.vocab)\n",
    "    matcher.add(\"DATE\", [[{\"ENT_TYPE\": \"DATE\"}]])\n",
    "    \n",
    "    for sentence in doc.sents:\n",
    "        sentence_doc = nlp(sentence.text)\n",
    "        matches = matcher(sentence_doc)\n",
    "        if matches:\n",
    "            return sentence.text # Match sentence if it has a date\n",
    "    \n",
    "    return None \n",
    "\n",
    "def find_sentence_with_regex(text, regex_pattern):\n",
    "    doc = nlp(text)\n",
    "    \n",
    "    for sentence in doc.sents:\n",
    "        if re.search(regex_pattern, sentence.text):\n",
    "            return sentence.text\n",
    "    \n",
    "    return None "
   ]
  },
  {
   "cell_type": "code",
   "execution_count": 67,
   "id": "3cb15542-ec8a-40db-bd32-1dd81c43b00f",
   "metadata": {},
   "outputs": [],
   "source": [
    "def gen_who_response(user_input, wikipedia_summary):\n",
    "    # Return the first sentence of the wikipedia summary\n",
    "    doc = nlp(wikipedia_summary)\n",
    "    # Return the first sentence\n",
    "    for sent in doc.sents:\n",
    "        return sent.text.strip()\n",
    "\n",
    "def gen_what_response(user_input, wikipedia_summary):\n",
    "    # Return the first sentence of the wikipedia summary\n",
    "    doc = nlp(wikipedia_summary)\n",
    "    \n",
    "    # Return the first sentence\n",
    "    for sent in doc.sents:\n",
    "        return sent.text.strip()\n",
    "\n",
    "def gen_when_response(user_input, wikipedia_summary):\n",
    "    born_matches = re.findall(r'\\bborn\\b', user_input)\n",
    "    born_question = False\n",
    "    if len(born_matches) != 0:\n",
    "        born_question = True\n",
    "    \n",
    "    if born_question:\n",
    "        # Get the entity in the question\n",
    "        named_entity = entity_search(user_input)\n",
    "        \n",
    "        sentences = sent_tokenize(wikipedia_summary)\n",
    "        sentence_with_born = ''\n",
    "        counted = False\n",
    "        \n",
    "        for sentence in sentences:\n",
    "            if 'born' in sentence.lower() and counted == False:\n",
    "                sentence_with_born = sentence\n",
    "                counted = True\n",
    "\n",
    "        # Grab date from sentence that contains the word born\n",
    "        date = get_first_date(sentence_with_born)\n",
    "\n",
    "        # If not in sentence, search entire text\n",
    "        if date == None:\n",
    "            date = get_first_date(wikipedia_summary)\n",
    "\n",
    "        if date != None:\n",
    "            return \"{} was born on {}.\".format(named_entity, date)\n",
    "        else:\n",
    "            return \"I'm sorry, I don't know the answer.\"\n",
    "    else:\n",
    "        # Return the first sentence with a date in it\n",
    "        sent_with_date = find_sentence_with_date(wikipedia_summary)\n",
    "        if sent_with_date != None:\n",
    "            return sent_with_date\n",
    "        else:\n",
    "            return \"I'm sorry, I don't know the answer.\"\n",
    "\n",
    "def gen_where_response(user_input, wikipedia_summary):\n",
    "    location_patterns = r\"\\b((is|was|did|located)* (near|around|at|spanning)+)\\b\"\n",
    "    response = find_sentence_with_regex(wikipedia_summary, location_patterns)\n",
    "    if response != None:\n",
    "        return response\n",
    "    else:\n",
    "        return \"I'm sorry, I don't know the answer.\""
   ]
  },
  {
   "cell_type": "code",
   "execution_count": 36,
   "id": "f2f2db2e-9b4f-4126-8435-7fcff6f06b20",
   "metadata": {},
   "outputs": [],
   "source": [
    "def generate_response(user_input, wikipedia_summary):\n",
    "    question_patterns = {\n",
    "        'what': r'\\bwhat\\b',\n",
    "        'who': r'\\bwho\\b',\n",
    "        'where': r'\\bwhere\\b',\n",
    "        'when': r'\\bwhen\\b',\n",
    "    }\n",
    "\n",
    "    # Make user input lowercase\n",
    "    user_input_lower = user_input.lower()\n",
    "\n",
    "    # Identify question type\n",
    "    question_type = None\n",
    "    for qtype, pattern in question_patterns.items():\n",
    "        if re.search(pattern, user_input_lower):\n",
    "            question_type = qtype\n",
    "            break\n",
    "\n",
    "    response = \"I'm sorry, I don't know the answer.\"\n",
    "    # Now we have question type. Let's handle each case seperately\n",
    "    if question_type == 'what':\n",
    "        response = gen_what_response(user_input, wikipedia_summary)\n",
    "    if question_type == 'who':\n",
    "        response = gen_who_response(user_input, wikipedia_summary)\n",
    "    if question_type == 'where':\n",
    "        response = gen_where_response(user_input, wikipedia_summary)\n",
    "    if question_type == 'when':\n",
    "        response = gen_when_response(user_input, wikipedia_summary)\n",
    "\n",
    "    return response"
   ]
  },
  {
   "cell_type": "code",
   "execution_count": 70,
   "id": "05a2ed86-4020-48ba-bf42-5559d5d0fcab",
   "metadata": {},
   "outputs": [],
   "source": [
    "def respond_to_input(user_input):\n",
    "    # First, check if the user said 'quit'\n",
    "    continue_conv = end_condition(user_input)\n",
    "    \n",
    "    # Next, generate a wikipedia query based on the user input\n",
    "    search_term = gen_search_terms(user_input)\n",
    "    print(\"-----\\nWIKIPEDIA QUERY: {}\\n-----\".format(search_term))\n",
    "\n",
    "    # Next, get a wikipedia summary based on this query\n",
    "    wikipedia_summary = fetch_wikipedia_summary(search_term)\n",
    "    print(\"-----\\nWIKIPEDIA SUMMARY:\")\n",
    "    print(wikipedia_summary)\n",
    "    print(\"\\n-----\")\n",
    "\n",
    "    # Last, generate a response based on user input and the wikipedia summary\n",
    "    response = generate_response(user_input, wikipedia_summary)\n",
    "    \n",
    "    return response, continue_conv"
   ]
  },
  {
   "cell_type": "code",
   "execution_count": 71,
   "id": "71128b89-6cf8-4398-83c3-b2a7cbb27735",
   "metadata": {},
   "outputs": [
    {
     "name": "stdout",
     "output_type": "stream",
     "text": [
      "Please ask a question. Type 'exit' to exit.\n"
     ]
    },
    {
     "name": "stdin",
     "output_type": "stream",
     "text": [
      ">  Who is Jimmy Carter?\n"
     ]
    },
    {
     "name": "stdout",
     "output_type": "stream",
     "text": [
      "-----\n",
      "WIKIPEDIA QUERY: Jimmy Carter\n",
      "-----\n",
      "-----\n",
      "WIKIPEDIA SUMMARY:\n",
      "James Earl Carter Jr. (born October 1, 1924) is an American politician and humanitarian who served as the 39th president of the United States from 1977 to 1981. A member of the Democratic Party, Carter was the 76th governor of Georgia from 1971 to 1975, and a Georgia state senator from 1963 to 1967. At age 99, he is both the oldest living former U.S. president and the longest-lived president in U.S. history. \n",
      "Carter was born and raised in Plains, Georgia. He graduated from the U.S. Naval Academy in 1946 and joined the U.S. Navy's submarine service. Carter returned home after his military service and revived his family's peanut-growing business. Opposing racial segregation, Carter supported the growing civil rights movement, and became an activist within the Democratic Party. He served in the Georgia State Senate from 1963 to 1967 and then as governor of Georgia from 1971 to 1975. As a dark-horse candidate not well known outside of Georgia, Carter won the Democratic nomination and narrowly defeated the incumbent Republican Party president Gerald Ford in the 1976 presidential election.\n",
      "Carter pardoned all Vietnam War draft evaders on his second day in office. He created a national energy policy that included conservation, price control, and new technology. Carter successfully pursued the Camp David Accords, the Panama Canal Treaties, and the second round of Strategic Arms Limitation Talks. He also confronted stagflation. His administration established the U.S. Department of Energy and the Department of Education. The end of his presidency was marked by the Iran hostage crisis, an energy crisis, the Three Mile Island accident, the Nicaraguan Revolution, and the Soviet invasion of Afghanistan. In response to the invasion, Carter escalated the Cold War by ending détente, imposing a grain embargo against the Soviets, enunciating the Carter Doctrine, and leading the multinational boycott of the 1980 Summer Olympics in Moscow. He lost the 1980 presidential election in a landslide to Ronald Reagan, the Republican nominee.\n",
      "After leaving the presidency, Carter established the Carter Center to promote and expand human rights; in 2002 he received a Nobel Peace Prize for his work related to it. He traveled extensively to conduct peace negotiations, monitor elections, and further the eradication of infectious diseases. Carter is a key figure in the nonprofit housing organization Habitat for Humanity. He has also written numerous books, ranging from political memoirs to poetry, while continuing to comment on global affairs, including two books on the Israeli–Palestinian conflict, in which he criticizes Israel's treatment of Palestinians as apartheid. Polls of historians and political scientists generally rank Carter as a below-average president, although both scholars and the public view his post-presidential activities more favorably. At 43 years, Carter's post-presidency is the longest in U.S. history.\n",
      "\n",
      "-----\n",
      "-----\n",
      "RESPONSE:\n",
      "James Earl Carter Jr. (born October 1, 1924) is an American politician and humanitarian who served as the 39th president of the United States from 1977 to 1981.\n",
      "-----\n"
     ]
    },
    {
     "name": "stdin",
     "output_type": "stream",
     "text": [
      ">  When was Jimmy Carter born?\n"
     ]
    },
    {
     "name": "stdout",
     "output_type": "stream",
     "text": [
      "-----\n",
      "WIKIPEDIA QUERY: Jimmy Carter\n",
      "-----\n",
      "-----\n",
      "WIKIPEDIA SUMMARY:\n",
      "James Earl Carter Jr. (born October 1, 1924) is an American politician and humanitarian who served as the 39th president of the United States from 1977 to 1981. A member of the Democratic Party, Carter was the 76th governor of Georgia from 1971 to 1975, and a Georgia state senator from 1963 to 1967. At age 99, he is both the oldest living former U.S. president and the longest-lived president in U.S. history. \n",
      "Carter was born and raised in Plains, Georgia. He graduated from the U.S. Naval Academy in 1946 and joined the U.S. Navy's submarine service. Carter returned home after his military service and revived his family's peanut-growing business. Opposing racial segregation, Carter supported the growing civil rights movement, and became an activist within the Democratic Party. He served in the Georgia State Senate from 1963 to 1967 and then as governor of Georgia from 1971 to 1975. As a dark-horse candidate not well known outside of Georgia, Carter won the Democratic nomination and narrowly defeated the incumbent Republican Party president Gerald Ford in the 1976 presidential election.\n",
      "Carter pardoned all Vietnam War draft evaders on his second day in office. He created a national energy policy that included conservation, price control, and new technology. Carter successfully pursued the Camp David Accords, the Panama Canal Treaties, and the second round of Strategic Arms Limitation Talks. He also confronted stagflation. His administration established the U.S. Department of Energy and the Department of Education. The end of his presidency was marked by the Iran hostage crisis, an energy crisis, the Three Mile Island accident, the Nicaraguan Revolution, and the Soviet invasion of Afghanistan. In response to the invasion, Carter escalated the Cold War by ending détente, imposing a grain embargo against the Soviets, enunciating the Carter Doctrine, and leading the multinational boycott of the 1980 Summer Olympics in Moscow. He lost the 1980 presidential election in a landslide to Ronald Reagan, the Republican nominee.\n",
      "After leaving the presidency, Carter established the Carter Center to promote and expand human rights; in 2002 he received a Nobel Peace Prize for his work related to it. He traveled extensively to conduct peace negotiations, monitor elections, and further the eradication of infectious diseases. Carter is a key figure in the nonprofit housing organization Habitat for Humanity. He has also written numerous books, ranging from political memoirs to poetry, while continuing to comment on global affairs, including two books on the Israeli–Palestinian conflict, in which he criticizes Israel's treatment of Palestinians as apartheid. Polls of historians and political scientists generally rank Carter as a below-average president, although both scholars and the public view his post-presidential activities more favorably. At 43 years, Carter's post-presidency is the longest in U.S. history.\n",
      "\n",
      "-----\n",
      "-----\n",
      "RESPONSE:\n",
      "Jimmy Carter was born on October 1, 1924.\n",
      "-----\n"
     ]
    },
    {
     "name": "stdin",
     "output_type": "stream",
     "text": [
      ">  Where were the twin towers located?\n"
     ]
    },
    {
     "name": "stdout",
     "output_type": "stream",
     "text": [
      "-----\n",
      "WIKIPEDIA QUERY: twin towers\n",
      "-----\n",
      "-----\n",
      "WIKIPEDIA SUMMARY:\n",
      "The original World Trade Center (WTC) was a large complex of seven buildings in the Financial District of Lower Manhattan in New York City. It opened on April 4, 1973, and was destroyed during the September 11 attacks in 2001. At the time of their completion, the Twin Towers, including the original 1 World Trade Center (the North Tower) at 1,368 feet (417 m), and 2 World Trade Center (the South Tower) at 1,362 feet (415.1 m), were the tallest buildings in the world. Other buildings in the complex included the Marriott World Trade Center (3 WTC), 4 WTC, 5 WTC, 6 WTC, and 7 WTC. The complex contained 13,400,000 square feet (1,240,000 m2) of office space and, prior to its completion, was projected to accommodate an estimated 130,000 people.\n",
      "The core complex was built between 1966 and 1975, at a cost of ~$400 million (equivalent to ~$3.80 billion in 2023). The idea was suggested by David Rockefeller to help stimulate urban renewal in Lower Manhattan, and his brother Nelson, then New York's 49th governor, signed the legislation to build it. The buildings at the complex were designed by Minoru Yamasaki. In 1998, the Port Authority of New York and New Jersey decided to privatize it by leasing the buildings to a private company to manage. It awarded the lease to Silverstein Properties in July 2001. During its existence, the World Trade Center symbolized globalization and the economic prosperity of the U.S. Although its design was initially criticized by New Yorkers and professional critics—\"they put up the boxes instead of the buildings\"—the Twin Towers became an icon of New York City. It had a major role in popular culture, and according to one estimate was depicted in 472 films. The Twin Towers were also used in Philippe Petit's tightrope-walking performance on August 7, 1974. Following the September 11 attacks, mentions of the complex in various media were altered or deleted, and several dozen \"memorial films\" were created.\n",
      "The World Trade Center experienced several major crime and terrorist incidents, including a fire on February 13, 1975; a bombing on February 26, 1993; and a bank robbery on January 14, 1998. During the terrorist attacks on September 11, 2001, al-Qaeda-affiliated hijackers flew two Boeing 767 jets, one into each of the Twin Towers, seventeen minutes apart; between 16,400 and 18,000 people were in the Twin Towers when they were struck. The fires from the impacts were intensified by the planes' burning jet fuel, which, along with the initial damage to the buildings' structural columns, ultimately caused both towers to collapse. The attacks killed 2,606 people in and around the towers, as well as all 157 on board the two aircraft. Falling debris from the towers, combined with fires in several surrounding buildings that were initiated by falling debris, led to the partial or complete collapse of all the WTC complex's buildings, including 7 World Trade Center, and caused catastrophic damage to 10 other large structures in the surrounding area.\n",
      "The cleanup and recovery process at the World Trade Center site took eight months, during which the remains of the other buildings were demolished. On May 30, 2002, the last piece of WTC steel was ceremonially removed. A new World Trade Center complex is being built with six new skyscrapers and several other buildings, many of which are complete. A memorial and museum to those killed in the attacks, a new rapid transit hub, and an elevated park have opened. The memorial features two square reflecting pools in the center marking where the Twin Towers stood. One World Trade Center, the tallest building in the Western Hemisphere at 1,776 feet (541 m) and the lead building for the new complex, completed construction in May 2013 and opened in November 2014.\n",
      "\n",
      "-----\n",
      "-----\n",
      "RESPONSE:\n",
      "The buildings at the complex were designed by Minoru Yamasaki.\n",
      "-----\n"
     ]
    },
    {
     "name": "stdin",
     "output_type": "stream",
     "text": [
      ">  exit\n"
     ]
    },
    {
     "name": "stdout",
     "output_type": "stream",
     "text": [
      "-----\n",
      "WIKIPEDIA QUERY: exit\n",
      "-----\n",
      "-----\n",
      "WIKIPEDIA SUMMARY:\n",
      "Exit(s) may refer to:\n",
      "\n",
      "-----\n",
      "Thank you! Goodbye.\n"
     ]
    }
   ],
   "source": [
    "def main():\n",
    "    conversating = True\n",
    "\n",
    "    # Start of conversation\n",
    "    print(\"Please ask a question. Type 'exit' to exit.\")\n",
    "\n",
    "    # Speech loop\n",
    "    while conversating:\n",
    "        # Grab user input\n",
    "        user_input = get_user_input()\n",
    "        \n",
    "        # Generate response, decide whether to continue the conversation\n",
    "        response, continue_conv = respond_to_input(user_input)\n",
    "\n",
    "        # If we're not continuing our conversation, break out of the loop.\n",
    "        if not continue_conv:\n",
    "            break\n",
    "\n",
    "        # Print our response\n",
    "        print(\"-----\\nRESPONSE:\\n{}\\n-----\".format(response))\n",
    "\n",
    "    print(\"Thank you! Goodbye.\")\n",
    "main()"
   ]
  },
  {
   "cell_type": "code",
   "execution_count": null,
   "id": "090bb439-a637-4143-8c34-fec6fb916d52",
   "metadata": {},
   "outputs": [],
   "source": []
  }
 ],
 "metadata": {
  "kernelspec": {
   "display_name": "Python 3 (ipykernel)",
   "language": "python",
   "name": "python3"
  },
  "language_info": {
   "codemirror_mode": {
    "name": "ipython",
    "version": 3
   },
   "file_extension": ".py",
   "mimetype": "text/x-python",
   "name": "python",
   "nbconvert_exporter": "python",
   "pygments_lexer": "ipython3",
   "version": "3.11.9"
  }
 },
 "nbformat": 4,
 "nbformat_minor": 5
}
